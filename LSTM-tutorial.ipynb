{
 "cells": [
  {
   "cell_type": "code",
   "execution_count": 1,
   "metadata": {
    "collapsed": true,
    "deletable": true,
    "editable": true
   },
   "outputs": [],
   "source": [
    "import numpy as np\n",
    "from sklearn.model_selection import train_test_split"
   ]
  },
  {
   "cell_type": "code",
   "execution_count": 2,
   "metadata": {
    "collapsed": false,
    "deletable": true,
    "editable": true
   },
   "outputs": [],
   "source": [
    "# read in data\n",
    "f = open('eng.txt')\n",
    "eng_text = f.read()\n",
    "f.close()\n",
    "\n",
    "f = open('frn.txt')\n",
    "frn_text = f.read()\n",
    "f.close()"
   ]
  },
  {
   "cell_type": "code",
   "execution_count": 3,
   "metadata": {
    "collapsed": false,
    "deletable": true,
    "editable": true
   },
   "outputs": [],
   "source": [
    "# clean strings\n",
    "eng_text = eng_text.replace('\\n',' ')\n",
    "eng_text = eng_text.lower()\n",
    "\n",
    "frn_text = frn_text.replace('\\n', ' ')\n",
    "frn_text = frn_text.lower()"
   ]
  },
  {
   "cell_type": "code",
   "execution_count": 4,
   "metadata": {
    "collapsed": true,
    "deletable": true,
    "editable": true
   },
   "outputs": [],
   "source": [
    "# split strings into gram_size length sub-strings, skipping by step_size chars each slice\n",
    "gram_size = 5\n",
    "step_size = 1\n",
    "\n",
    "# english\n",
    "eng_sub_strs = []\n",
    "eng_next_chars = []\n",
    "for i in range(0,len(eng_text)-gram_size,step_size):\n",
    "    sub_str = eng_text[i:i+gram_size]\n",
    "    eng_sub_strs.append(sub_str)\n",
    "    eng_next_chars.append(eng_text[i+gram_size])\n",
    "    \n",
    "# french\n",
    "frn_sub_strs = []\n",
    "frn_next_chars = []\n",
    "for i in range(0,len(frn_text)-gram_size,step_size):\n",
    "    sub_str = frn_text[i:i+gram_size]\n",
    "    frn_sub_strs.append(sub_str)\n",
    "    frn_next_chars.append(frn_text[i+gram_size])"
   ]
  },
  {
   "cell_type": "code",
   "execution_count": 5,
   "metadata": {
    "collapsed": true,
    "deletable": true,
    "editable": true
   },
   "outputs": [],
   "source": [
    "# create dictionaries mapping characters to their feature (column) index\n",
    "unique_chars = sorted(list(set(eng_text+frn_text)))\n",
    "char2idx = {}\n",
    "idx2char = {}\n",
    "for i,c in enumerate(unique_chars):\n",
    "    char2idx[c] = i\n",
    "    idx2char[i] = c"
   ]
  },
  {
   "cell_type": "code",
   "execution_count": 6,
   "metadata": {
    "collapsed": false,
    "deletable": true,
    "editable": true
   },
   "outputs": [],
   "source": [
    "# vectorize substrings\n",
    "\n",
    "# english\n",
    "X_eng = np.zeros((len(eng_sub_strs), gram_size, len(unique_chars)))\n",
    "y_eng = np.zeros((len(eng_sub_strs), len(unique_chars)))\n",
    "\n",
    "for i in range(len(eng_sub_strs)):\n",
    "    sub_str = eng_sub_strs[i]\n",
    "    vec = np.zeros((gram_size, len(unique_chars)))\n",
    "    for j in range(len(sub_str)):\n",
    "        char = sub_str[j]\n",
    "        idx = char2idx[char]\n",
    "        vec[j,idx] = 1\n",
    "        \n",
    "    X_eng[i,:,:] = vec\n",
    "    \n",
    "    next_char = eng_next_chars[i]\n",
    "    idx = char2idx[next_char]\n",
    "    y_eng[i, idx] = 1\n",
    "\n",
    "# french\n",
    "X_frn = np.zeros((len(frn_sub_strs), gram_size, len(unique_chars)))\n",
    "y_frn = np.zeros((len(frn_sub_strs), len(unique_chars)))\n",
    "\n",
    "for i in range(len(frn_sub_strs)):\n",
    "    sub_str = frn_sub_strs[i]\n",
    "    vec = np.zeros((gram_size, len(unique_chars)))\n",
    "    for j in range(len(sub_str)):\n",
    "        char = sub_str[j]\n",
    "        idx = char2idx[char]\n",
    "        vec[j,idx] = 1\n",
    "\n",
    "    X_frn[i,:,:] = vec\n",
    "    \n",
    "    next_char = frn_next_chars[i]\n",
    "    idx = char2idx[next_char]\n",
    "    y_frn[i, idx] = 1\n"
   ]
  },
  {
   "cell_type": "code",
   "execution_count": 7,
   "metadata": {
    "collapsed": false,
    "deletable": true,
    "editable": true
   },
   "outputs": [],
   "source": [
    "# split into train and test sets\n",
    "\n",
    "X_eng_train, X_eng_test, y_eng_train, y_eng_test = train_test_split(\n",
    "    X_eng, y_eng, test_size=0.2, random_state=1993)\n",
    "\n",
    "X_frn_train, X_frn_test, y_frn_train, y_frn_test = train_test_split(\n",
    "    X_frn, y_frn, test_size=0.2, random_state=1993)"
   ]
  },
  {
   "cell_type": "code",
   "execution_count": 8,
   "metadata": {
    "collapsed": false,
    "deletable": true,
    "editable": true
   },
   "outputs": [
    {
     "name": "stdout",
     "output_type": "stream",
     "text": [
      "(8592, 5, 43) (2149, 5, 43)\n",
      "(8592, 43) (2149, 43)\n",
      "\n",
      "(9603, 5, 43) (2401, 5, 43)\n",
      "(9603, 43) (2401, 43)\n"
     ]
    }
   ],
   "source": [
    "print(X_eng_train.shape, X_eng_test.shape)\n",
    "print(y_eng_train.shape, y_eng_test.shape)\n",
    "print()\n",
    "print(X_frn_train.shape, X_frn_test.shape)\n",
    "print(y_frn_train.shape, y_frn_test.shape)"
   ]
  },
  {
   "cell_type": "code",
   "execution_count": null,
   "metadata": {
    "collapsed": true,
    "deletable": true,
    "editable": true
   },
   "outputs": [],
   "source": []
  },
  {
   "cell_type": "code",
   "execution_count": null,
   "metadata": {
    "collapsed": false,
    "deletable": true,
    "editable": true
   },
   "outputs": [],
   "source": []
  },
  {
   "cell_type": "code",
   "execution_count": 9,
   "metadata": {
    "collapsed": false,
    "deletable": true,
    "editable": true
   },
   "outputs": [
    {
     "name": "stderr",
     "output_type": "stream",
     "text": [
      "Using TensorFlow backend.\n"
     ]
    }
   ],
   "source": [
    "from keras.models import Sequential, Model\n",
    "from keras.layers import Dense, Activation, Input\n",
    "from keras.layers import LSTM\n",
    "from keras.optimizers import RMSprop"
   ]
  },
  {
   "cell_type": "code",
   "execution_count": 10,
   "metadata": {
    "collapsed": false,
    "deletable": true,
    "editable": true
   },
   "outputs": [
    {
     "name": "stdout",
     "output_type": "stream",
     "text": [
      "_________________________________________________________________\n",
      "Layer (type)                 Output Shape              Param #   \n",
      "=================================================================\n",
      "lstm_1 (LSTM)                (None, 128)               88064     \n",
      "_________________________________________________________________\n",
      "dense_1 (Dense)              (None, 43)                5547      \n",
      "_________________________________________________________________\n",
      "activation_1 (Activation)    (None, 43)                0         \n",
      "=================================================================\n",
      "Total params: 93,611.0\n",
      "Trainable params: 93,611.0\n",
      "Non-trainable params: 0.0\n",
      "_________________________________________________________________\n"
     ]
    }
   ],
   "source": [
    "eng_model = Sequential()\n",
    "\n",
    "lstm_layer = LSTM(128, input_shape=(gram_size,len(unique_chars)))\n",
    "eng_model.add(lstm_layer)\n",
    "\n",
    "pred_layer = Dense(len(unique_chars))\n",
    "eng_model.add(pred_layer)\n",
    "\n",
    "pred_layer = Activation('softmax')\n",
    "eng_model.add(pred_layer)\n",
    "\n",
    "optimizer = RMSprop(lr=0.01)\n",
    "eng_model.compile(loss='categorical_crossentropy', optimizer=optimizer)\n",
    "\n",
    "eng_model.summary()"
   ]
  },
  {
   "cell_type": "code",
   "execution_count": 11,
   "metadata": {
    "collapsed": false,
    "deletable": true,
    "editable": true
   },
   "outputs": [
    {
     "name": "stdout",
     "output_type": "stream",
     "text": [
      "_________________________________________________________________\n",
      "Layer (type)                 Output Shape              Param #   \n",
      "=================================================================\n",
      "lstm_2 (LSTM)                (None, 128)               88064     \n",
      "_________________________________________________________________\n",
      "dense_2 (Dense)              (None, 43)                5547      \n",
      "_________________________________________________________________\n",
      "activation_2 (Activation)    (None, 43)                0         \n",
      "=================================================================\n",
      "Total params: 93,611.0\n",
      "Trainable params: 93,611.0\n",
      "Non-trainable params: 0.0\n",
      "_________________________________________________________________\n"
     ]
    }
   ],
   "source": [
    "frn_model = Sequential()\n",
    "\n",
    "lstm_layer = LSTM(128, input_shape=(gram_size,len(unique_chars)))\n",
    "frn_model.add(lstm_layer)\n",
    "\n",
    "pred_layer = Dense(len(unique_chars))\n",
    "frn_model.add(pred_layer)\n",
    "\n",
    "pred_layer = Activation('softmax')\n",
    "frn_model.add(pred_layer)\n",
    "\n",
    "optimizer = RMSprop(lr=0.01)\n",
    "frn_model.compile(loss='categorical_crossentropy', optimizer=optimizer)\n",
    "\n",
    "frn_model.summary()"
   ]
  },
  {
   "cell_type": "code",
   "execution_count": 12,
   "metadata": {
    "collapsed": false,
    "deletable": true,
    "editable": true
   },
   "outputs": [
    {
     "name": "stdout",
     "output_type": "stream",
     "text": [
      "Epoch 1/5\n",
      "1s - loss: 2.6469\n",
      "Epoch 2/5\n",
      "0s - loss: 2.0193\n",
      "Epoch 3/5\n",
      "0s - loss: 1.7432\n",
      "Epoch 4/5\n",
      "0s - loss: 1.5398\n",
      "Epoch 5/5\n",
      "0s - loss: 1.3658\n"
     ]
    },
    {
     "data": {
      "text/plain": [
       "<keras.callbacks.History at 0x1af4c06cba8>"
      ]
     },
     "execution_count": 12,
     "metadata": {},
     "output_type": "execute_result"
    }
   ],
   "source": [
    "# train english model\n",
    "eng_model.fit(X_eng_train, y_eng_train,\n",
    "         epochs=5,\n",
    "         batch_size=128,\n",
    "         shuffle=True,\n",
    "         verbose=2)"
   ]
  },
  {
   "cell_type": "code",
   "execution_count": 13,
   "metadata": {
    "collapsed": false,
    "deletable": true,
    "editable": true
   },
   "outputs": [
    {
     "name": "stdout",
     "output_type": "stream",
     "text": [
      "Epoch 1/5\n",
      "1s - loss: 2.5411\n",
      "Epoch 2/5\n",
      "0s - loss: 1.9819\n",
      "Epoch 3/5\n",
      "0s - loss: 1.7464\n",
      "Epoch 4/5\n",
      "0s - loss: 1.5730\n",
      "Epoch 5/5\n",
      "0s - loss: 1.4171\n"
     ]
    },
    {
     "data": {
      "text/plain": [
       "<keras.callbacks.History at 0x1af4c4041d0>"
      ]
     },
     "execution_count": 13,
     "metadata": {},
     "output_type": "execute_result"
    }
   ],
   "source": [
    "# train french model\n",
    "frn_model.fit(X_frn_train, y_frn_train,\n",
    "             epochs=5,\n",
    "             batch_size=128,\n",
    "             shuffle=True,\n",
    "             verbose=2)"
   ]
  },
  {
   "cell_type": "code",
   "execution_count": null,
   "metadata": {
    "collapsed": false,
    "deletable": true,
    "editable": true
   },
   "outputs": [],
   "source": []
  },
  {
   "cell_type": "code",
   "execution_count": null,
   "metadata": {
    "collapsed": true,
    "deletable": true,
    "editable": true
   },
   "outputs": [],
   "source": []
  },
  {
   "cell_type": "code",
   "execution_count": 14,
   "metadata": {
    "collapsed": false,
    "deletable": true,
    "editable": true
   },
   "outputs": [],
   "source": [
    "# build language prediction model on top of english and french LSTMs\n",
    "\n",
    "def model_predict(test_gram):\n",
    "    \n",
    "    # insert zero vector at 0th position to indicate START\n",
    "    start = np.zeros((1,len(unique_chars)))\n",
    "    test_gram = np.insert(test_gram, 0, start, axis=0)\n",
    "    \n",
    "    # initialize log probability metrics\n",
    "    gram_log_prob_eng = 0.\n",
    "    gram_log_prob_frn = 0.\n",
    "    \n",
    "    # calculate the probability the next character will be the true character,\n",
    "    # given the previous characters, for all characters in test_gram\n",
    "    # essentially the predicted values correspond to \n",
    "    # P('t'|START), P('r'|START,'t'), P('u'|START,'t','r'), etc.\n",
    "    for i in range(1,test_gram.shape[0]):\n",
    "        \n",
    "        # pad gram with 0 vectors to indicate START\n",
    "        # an analogous example: \n",
    "        # the string 'trump' is split as: '00000' -> 't', '0000t' -> 'r', '000tr' -> 'u', etc.\n",
    "        pad = np.repeat(start, gram_size-i, axis=0)\n",
    "        \n",
    "        # reformat test_gram for prediction\n",
    "        temp_gram = test_gram[:i,:]\n",
    "        temp_gram = np.append(pad, temp_gram, axis=0)\n",
    "        temp_gram = temp_gram.reshape((1, gram_size, len(unique_chars)))\n",
    "        \n",
    "        # predict probability the next char will be the true char for english and french\n",
    "        y_hat_eng = eng_model.predict(temp_gram)[0]\n",
    "        y_hat_frn = frn_model.predict(temp_gram)[0]\n",
    "        \n",
    "        next_char = test_gram[i,:]\n",
    "        idx = list(next_char).index(1)\n",
    "        \n",
    "        log_prob_eng = np.log(y_hat_eng[idx])\n",
    "        log_prob_frn = np.log(y_hat_frn[idx])\n",
    "        \n",
    "        # add log(P(temp_gram|chars before)) to total log prob\n",
    "        gram_log_prob_eng += log_prob_eng\n",
    "        gram_log_prob_frn += log_prob_frn\n",
    "        \n",
    "        #next_char = idx2char[idx] \n",
    "        #print(i,next_char,log_prob_eng, gram_log_prob_eng, log_prob_frn, gram_log_prob_frn)\n",
    "    \n",
    "    y_hat = gram_log_prob_eng/gram_log_prob_frn\n",
    "    \n",
    "    return gram_log_prob_eng,gram_log_prob_frn,y_hat\n",
    "    "
   ]
  },
  {
   "cell_type": "code",
   "execution_count": 15,
   "metadata": {
    "collapsed": false,
    "deletable": true,
    "editable": true
   },
   "outputs": [],
   "source": [
    "eng_log_probs = []\n",
    "frn_log_probs = []\n",
    "\n",
    "eng_scores = []\n",
    "for i in range(X_eng_test.shape[0]):\n",
    "    eng_log_prob, frn_log_prob, score = model_predict(X_eng_test[i,:,:])\n",
    "    \n",
    "    eng_log_probs.append(eng_log_prob)\n",
    "    frn_log_probs.append(frn_log_prob)\n",
    "    eng_scores.append(score)\n",
    "\n",
    "frn_scores = []\n",
    "for i in range(X_frn_test.shape[0]):\n",
    "    eng_log_prob, frn_log_prob, score = model_predict(X_frn_test[i,:,:])\n",
    "    \n",
    "    eng_log_probs.append(eng_log_prob)\n",
    "    frn_log_probs.append(frn_log_prob)\n",
    "    frn_scores.append(score)"
   ]
  },
  {
   "cell_type": "code",
   "execution_count": 16,
   "metadata": {
    "collapsed": false,
    "deletable": true,
    "editable": true
   },
   "outputs": [],
   "source": [
    "y_true = [1 for i in range(len(eng_scores))]+[0 for i in range(len(frn_scores))]"
   ]
  },
  {
   "cell_type": "code",
   "execution_count": 17,
   "metadata": {
    "collapsed": false,
    "deletable": true,
    "editable": true
   },
   "outputs": [],
   "source": [
    "from sklearn.metrics import roc_curve, auc\n",
    "import matplotlib.pyplot as plt"
   ]
  },
  {
   "cell_type": "code",
   "execution_count": 18,
   "metadata": {
    "collapsed": false,
    "deletable": true,
    "editable": true
   },
   "outputs": [
    {
     "data": {
      "image/png": "[encoded data removed]",
      "text/plain": [
       "<matplotlib.figure.Figure at 0x1af42589f28>"
      ]
     },
     "metadata": {},
     "output_type": "display_data"
    }
   ],
   "source": [
    "tpr, fpr, _ = roc_curve(y_true, eng_scores+frn_scores)\n",
    "roc_auc = auc(fpr, tpr)\n",
    "\n",
    "#plot the ROC-AUC curve\n",
    "plt.figure()\n",
    "plt.semilogx(fpr, tpr, color='darkorange', lw=2,\n",
    "         label='ROC curve (area = %0.4f)' % roc_auc)\n",
    "plt.plot([0,1],[0,1], color='navy', lw=2, linestyle='--')\n",
    "plt.xlabel('False Positive Rate (log scale)')\n",
    "plt.ylabel('True Positive Rate')\n",
    "plt.title('LSTM Language Detection ROC')\n",
    "plt.legend(loc=\"lower right\")\n",
    "plt.show()"
   ]
  },
  {
   "cell_type": "code",
   "execution_count": null,
   "metadata": {
    "collapsed": true,
    "deletable": true,
    "editable": true
   },
   "outputs": [],
   "source": []
  },
  {
   "cell_type": "code",
   "execution_count": null,
   "metadata": {
    "collapsed": true,
    "deletable": true,
    "editable": true
   },
   "outputs": [],
   "source": []
  },
  {
   "cell_type": "code",
   "execution_count": null,
   "metadata": {
    "collapsed": true
   },
   "outputs": [],
   "source": []
  }
 ],
 "metadata": {
  "kernelspec": {
   "display_name": "Python 3",
   "language": "python",
   "name": "python3"
  },
  "language_info": {
   "codemirror_mode": {
    "name": "ipython",
    "version": 3
   },
   "file_extension": ".py",
   "mimetype": "text/x-python",
   "name": "python",
   "nbconvert_exporter": "python",
   "pygments_lexer": "ipython3",
   "version": "3.6.0"
  }
 },
 "nbformat": 4,
 "nbformat_minor": 2
}
